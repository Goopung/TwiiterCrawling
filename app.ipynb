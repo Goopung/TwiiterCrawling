{
 "cells": [
  {
   "cell_type": "code",
   "execution_count": null,
   "metadata": {},
   "outputs": [],
   "source": []
  },
  {
   "cell_type": "code",
   "execution_count": 73,
   "metadata": {},
   "outputs": [],
   "source": [
    "from selenium import webdriver\n",
    "from selenium.webdriver.chrome.service import Service\n",
    "from selenium.webdriver.chrome.options import Options\n",
    "from selenium.webdriver.common.by import By\n",
    "from selenium.webdriver.common.keys import Keys\n",
    "import pickle\n",
    "import subprocess\n",
    "from bs4 import BeautifulSoup\n",
    "import time\n",
    "import json"
   ]
  },
  {
   "cell_type": "markdown",
   "metadata": {},
   "source": [
    "# 1. 打开Chromedriver"
   ]
  },
  {
   "cell_type": "code",
   "execution_count": 10,
   "metadata": {},
   "outputs": [],
   "source": [
    "chrome_options = Options()\n",
    "chrome_options.add_argument(\"--start-maximized\")\n",
    "chrome_options.add_argument(\"--disable-gpu\")\n",
    "\n",
    "# 设置 ChromeDriver 路径\n",
    "chrome_driver_path = \".twiiter/chromedriver-mac-arm64/chromedriver\"\n",
    "service = Service(chrome_driver_path)"
   ]
  },
  {
   "cell_type": "code",
   "execution_count": 66,
   "metadata": {},
   "outputs": [],
   "source": [
    "driver = webdriver.Chrome(service=service, options=chrome_options)"
   ]
  },
  {
   "cell_type": "code",
   "execution_count": 67,
   "metadata": {},
   "outputs": [],
   "source": [
    "driver.get(\"https://x.com\") #这里可能会让你登陆，不要管！！"
   ]
  },
  {
   "cell_type": "markdown",
   "metadata": {},
   "source": [
    "# 2. 写入小饼干"
   ]
  },
  {
   "cell_type": "code",
   "execution_count": 62,
   "metadata": {},
   "outputs": [],
   "source": [
    "#获取小饼干，只需运行一次\n",
    "# cookies = driver.get_cookies()\n",
    "# with open(\"twitter_cookies.pkl\", \"wb\") as file:\n",
    "#     pickle.dump(cookies, file)"
   ]
  },
  {
   "cell_type": "code",
   "execution_count": 69,
   "metadata": {},
   "outputs": [],
   "source": [
    "with open(\"twitter_cookies.pkl\", \"rb\") as file:\n",
    "    cookies = pickle.load(file)\n",
    "\n",
    "for cookie in cookies:\n",
    "    driver.add_cookie(cookie)"
   ]
  },
  {
   "cell_type": "markdown",
   "metadata": {},
   "source": [
    "# 3. 输入目标网址（例如OrbitalSidekick）"
   ]
  },
  {
   "cell_type": "code",
   "execution_count": 70,
   "metadata": {},
   "outputs": [],
   "source": [
    "url = \"https://x.com/OrbitalSidekick\" #这里改成你要爬的主页\n",
    "driver.get(url)"
   ]
  },
  {
   "cell_type": "markdown",
   "metadata": {},
   "source": [
    "# 4. 开爬"
   ]
  },
  {
   "cell_type": "code",
   "execution_count": 71,
   "metadata": {},
   "outputs": [
    {
     "name": "stdout",
     "output_type": "stream",
     "text": [
      "开始爬取第 1 轮推文.\n",
      "推文 1: Our advanced satellite technology goes beyond high-resolution imagery- it analyzes the invisible spectrum, revealing methane emissions! On 5/21/24, our GHOSt2 satellite found a methane plume in CA in less than 24 hrs! #esg #hyperspectral #methane\n",
      "--------------------------------------------------------------------------------\n",
      "推文 2: OSK satellites are methane leak ninjas! \n",
      "We monitor pipelines & just spotted a leak in Turkmenistan...from SPACE! Data analyzed & leak detected in 48 hours! #hyperspectral ”\n",
      "--------------------------------------------------------------------------------\n",
      "推文 3: We’re proud to announce that we are a Qualified Team in the #XPRIZEWildfire competition! We are helping to put an end to destructive wildfires through our technology within the Space-Based Wildfire Detection & Intelligence track. Stay tuned for our journey to the semifinals!\n",
      "--------------------------------------------------------------------------------\n",
      "推文 4: Orbital Sidekick shares first-light imagery https:// spacenews.com/orbital-sideki ck-shares-first-light-imagery/ …\n",
      "--------------------------------------------------------------------------------\n",
      "推文 5: Excited to share that both GHOSt 4 & 5 are healthy and going through commissioning. We've acquired first light data from both spacecraft and data shows great correlation to key features and indicators. Thank you to our partners @Corning and @astrodigitalgeo\n",
      "--------------------------------------------------------------------------------\n",
      "推文 6: We are honored to be listed by @FastCompany as one of the World's Most Innovative Space Companies of 2024!\n",
      "\n",
      "With 5 best-in-class commercial satellites in operation, OSK is truly the global leader in hyperspectral satellite intelligence.\n",
      "--------------------------------------------------------------------------------\n",
      "推文 7: They're here! #transporter10 #SpaceX #remotesensing #geospatial #hyperspectral\n",
      "--------------------------------------------------------------------------------\n",
      "推文 8: Want to gain an insight into how OSK is detecting Methane from space? Our Director of ML/AI, Kevin Brodie provides a window into how we’re detecting methane from our GHOSt constellation. https:// orbitalsidekick.com/news-blog/auto mated-methane-detectionfrom-space … #hyperspectral #earthobservation #Satellites\n",
      "--------------------------------------------------------------------------------\n",
      "推文 9: We ring in the new year unveiling 8m SWIR HSI data captured by a commercial company for the first time. Here are 3 SWIR band composites (1643.7nm, 1648.1nm, 1652.6nm)! \n",
      "\n",
      "Wishing everyone a very happy new year and looking forward to 2024.\n",
      "--------------------------------------------------------------------------------\n",
      "结束第 1 轮爬取，共爬取 9 条推文。\n",
      "\n",
      "开始爬取第 2 轮推文.\n",
      "推文 10: Hey, are you going to be @AWSreInvent ? Come see me talk about @OrbitalSidekick 's AWS governance strategy. We just added a repeat session on Wednesday evening as well in case you're running behind on session registration!\n",
      "--------------------------------------------------------------------------------\n",
      "推文 11: Today at #SVSW , our very own @codebrewed will be discussing how OSK uses ML, AI, and Cloud tools for intelligent data exploitation at #SatelliteInnovation2023 .\n",
      "Learn more about the event here: https:// 2023.satelliteinnovation.com\n",
      "--------------------------------------------------------------------------------\n",
      "推文 12: It’s World Space Week we’re kicking it off by highlighting the power of hyperspectral imagery (HSI). @Corning Inc. + OSK are combining hyperspectral sensors with intelligence + AI analytics to offer insights to support sustainability & safety efforts, anywhere in the world.\n",
      "--------------------------------------------------------------------------------\n",
      "推文 13: Today we're unveiling the first set of insights from our GHOSt constellation, which consists of the most advanced commercial HSI satellites in orbit. These insights demonstrate how OSK’s intelligence can help aid the energy transition. Check it out: https:// bit.ly/GHOSt\n",
      "--------------------------------------------------------------------------------\n",
      "推文 14: Some of the biggest threats to our climate are the ones we can’t see. Check out how we’re combining hyperspectral imagery with @NVIDIAAI ‘s edge #AI to monitor, detect, and prevent gas and hydrocarbon leaks across the globe:\n",
      "--------------------------------------------------------------------------------\n",
      "推文 15: Started from our garage in SF, now we’re here (in orbit)! Thanks to @BreakingDefense for sharing the story of how our first home-made sensor made it to the ISS, and how we’re now providing best-in-class hyperspectral monitoring. Read more here: https:// bit.ly/46Ed4lc\n",
      "--------------------------------------------------------------------------------\n",
      "推文 16: Orbital Sidekick launched its 3rd hyperspectral satelittle a few weeks back.\n",
      "\n",
      "In CEO Dan Katz words, they want to build a \"hyperspectral atlas\" to indentify the chemical footprint of almost anything worldwide.\n",
      "\n",
      "Has implications for all kinds of climate tech verticals:\n",
      "•\n",
      "--------------------------------------------------------------------------------\n",
      "推文 17: And just like that, OSK will be adding another GHOSt satellite to our powerful hyperspectral constellation #hyperspectral #Geospatial #remotesensing #energytransition #energy\n",
      "--------------------------------------------------------------------------------\n",
      "推文 18: Hyperspectral data gives us the ability to see the properties and characteristics of any object on earth. @hodesdavid at @Via_Satellite effectively explains how we’re leveraging this technology to revitalize the climate and defense sectors. Read more here:\n",
      "--------------------------------------------------------------------------------\n",
      "结束第 2 轮爬取，共爬取 18 条推文。\n",
      "\n",
      "开始爬取第 3 轮推文.\n",
      "推文 19: Attention educators, researchers and program managers at academic or non-profit orgs: We want to hear how we can support your work with hyperspectral imaging (HSI) data + the opportunity to leverage our resources. More info: https:// orbitalsidekick.com/news-blog/2023 -open-call-for-information-cfi---research-community …\n",
      "--------------------------------------------------------------------------------\n",
      "推文 20: Thrilled to have been selected as a Sustainable Innovation Award winner by @SEALAwards in recognition of our leading hyperspectral intelligence solution and our work helping the energy industry meet its sustainability goals. Check it out:\n",
      "--------------------------------------------------------------------------------\n",
      "推文 21: Check out @jwmcdonald1944 's new story for @etechbrew on #hyperspectral imaging and how companies like OSK are leading the charge to commercialize this technology:\n",
      "--------------------------------------------------------------------------------\n",
      "推文 22: Today, we successfully deployed our GHOSt 1 and 2 hyperspectral satellites into orbit aboard the #Transporter7 mission on a @SpaceX Falcon 9! The satellites are equipped with the most advanced #hyperspectral sensors in the industry. \n",
      "Read more here:\n",
      "--------------------------------------------------------------------------------\n",
      "推文 23: Liftoff!\n",
      "--------------------------------------------------------------------------------\n",
      "推文 24: OSK is helping energy providers like @WilliamsUpdates monitor their assets + demonstrate the effectiveness of sustainability efforts. Check out @AlexSdelaGarza ’s story for @TIME on how we’re making it happen: https:// bit.ly/41nWen2 #energy #Satellite\n",
      "--------------------------------------------------------------------------------\n",
      "推文 25: Our CEO and co-founder, Dan Katz, joined @johnseverance on the New Space podcast to discuss how Orbital Sidekick is leveraging hyperspectral intelligence to help energy operators tackle one of their biggest sustainability challenges. Listen in here: http:// bit.ly/3GIiQXD\n",
      "--------------------------------------------------------------------------------\n",
      "推文 26: We’re leveraging @AWS 's infrastructure, compute, and scalability to process new satellite data within a few minutes of it being received on the ground Check out more about our partnership: https:// go.aws/3o7Aqha #MachineLearning #satellite #geospatial #energy\n",
      "--------------------------------------------------------------------------------\n",
      "推文 27: Now targeting no earlier than tomorrow, April 11 at 11:48 p.m. PT for a Falcon 9 launch of our seventh dedicated smallsat rideshare mission from Space Launch Complex 4E in California; teams are keeping an eye on weather → http:// spacex.com/launches\n",
      "--------------------------------------------------------------------------------\n",
      "结束第 3 轮爬取，共爬取 27 条推文。\n",
      "\n",
      "开始爬取第 4 轮推文.\n",
      "推文 28: We're unveiling the GHOSt 1 and 2 mission patch in celebration of our imminent launch! This commemorative patch, in keeping with longtime US space program tradition, honors the hard work of the entire OSK and partner team that made this possible. #knownowactfast #Satellite\n",
      "--------------------------------------------------------------------------------\n",
      "推文 29: #BREAKING NRO has awarded six commercial hyperspectral study contracts to @BlackSky_Inc , HyperSat, @OrbitalSidekick , @PixxelSpace , @planet , and Xplore. \n",
      "\n",
      "Read more: https:// bit.ly/3yYVbOw\n",
      "--------------------------------------------------------------------------------\n",
      "推文 30: Today, we’re excited to announce the expansion of our advisory board as we welcome five leaders from the #space and #defense industries. Their experience and insight will be invaluable as we commercialize hyperspectral intelligence\n",
      "--------------------------------------------------------------------------------\n",
      "推文 31: Newsletter: Picture day\n",
      "\n",
      "Chatting with @QuiltyAnalytics Director of Research @CHenry_QA about his recent report on satellite imagery, with some high level takeaways:\n",
      "--------------------------------------------------------------------------------\n",
      "推文 32: \"”GHOSt stands for “Global Hyperspectral Observation Satellite,” and has to be one of the best constellation names that we’ve heard to date.\" https:// payloadspace.com/orbital-sideki ck-raises-10m-preps-for-launch-of-hyperspectral-constellation/ … Thank you @payloadspace and @Ryandoofy #hyperspectral #RemoteSensing #energy\n",
      "--------------------------------------------------------------------------------\n",
      "推文 33: Today, we announced the close of a $10M round led by @eic_vc , along with @WilliamsUpdates and @ONEOK . We’re excited to continue commercializing our #hyperspectral intelligence platform with support from these great partners Read more @TechCrunch : https:// tcrn.ch/3WVcRUy\n",
      "--------------------------------------------------------------------------------\n",
      "推文 34: @OrbitalSidekick is excited to work with @NVIDIAEmbedded to accelerate the use of edge AI in space applications! https:// blogs.nvidia.com/blog/2023/01/2 5/orbital-sidekick/ … #NVIDIAInception #remotesensing #Satellite\n",
      "--------------------------------------------------------------------------------\n",
      "推文 35: . @OrbitalSidekick , an #NVIDIAInception member is creating technology to spot gas pipeline leaks using satellites to collect hyperspectral imagery from space. OSK uses the NVIDIA Jetson edge AI platform to process and analyze data in real-time. Read more: https:// nvda.ws/3kEcKPQ\n",
      "--------------------------------------------------------------------------------\n",
      "结束第 4 轮爬取，共爬取 35 条推文。\n",
      "\n",
      "开始爬取第 5 轮推文.\n",
      "推文 36: Dan Katz is the co-founder and CEO of @OrbitalSidekick , a San Francisco-based company deploying a constellation of hyperspectral remote sensing satellites. \n",
      "Enjoy! YouTube: https:// youtu.be/I8x3uzXl-PI Spotify: https:// spoti.fi/3uFHkdE Apple: https:// apple.co/3uHYrLX #space #podcast\n",
      "--------------------------------------------------------------------------------\n",
      "推文 37: Our team completed another big milestone. Both satellites GHOSt 1 & 2 passed vibration testing including all functional checks. Gearing up for Falcon 9 Transporter 7 early 2023!\n",
      "\n",
      "Thank you @astrodigitalgeo & @maverick_space for all the support. #satellite #geospatial #SpaceX\n",
      "--------------------------------------------------------------------------------\n",
      "推文 38: What is the power of hyperspectral? Our principal remote sensing scientist, Dr Jennifer Buz provides a window into one of its many uses with a highly accurate, scalable tree speciation product. https:// orbitalsidekick.com/news-blog/tree -speciation-for-carbon-estimates … #remotesensing #EarthObservation #hyperspectral #Satellite\n",
      "--------------------------------------------------------------------------------\n",
      "推文 39: @OrbitalSidekick is revolutionizing the way the energy sector operates. See how our first-in-class satellite constellation will help operators maintain key infrastructure, mitigate risk, and uphold environmental sustainability standards around the world https:// orbitalsidekick.com/news-blog/how- is-osks-hyperspectral-data-helping-the-energy …\n",
      "--------------------------------------------------------------------------------\n",
      "推文 40: How will hyperspectral data help energy companies enhance operational integrity? Stay tuned - SIGMA: Monitor, our flagship product, is coming soon. Reach out for a demo to solutions@orbitalsidekick.com #pipelines #energy #oilandgas #satelite #sustainability\n",
      "--------------------------------------------------------------------------------\n",
      "推文 41: Another milestone completed. GHOSt 1 successfully passed TVAC testing @experiorlabs . Great work by the @OrbitalSidekick and @astrodigitalgeo teams to pass this phase of environmental testing. Another step closer to a Q1 2023 launch! #space #geospatial\n",
      "--------------------------------------------------------------------------------\n",
      "推文 42: Big milestones this past month. GHOSt 1 is integrated and we're getting ready for environmental tests. The GHOSt 2 payload has been delivered and we're working on integrating it with the satellite. Thank you to our partners @Corning and @astrodigitalgeo #Satellites\n",
      "--------------------------------------------------------------------------------\n",
      "结束第 5 轮爬取，共爬取 42 条推文。\n",
      "\n"
     ]
    }
   ],
   "source": [
    "scraped_tweets = set()\n",
    "scroll_times = 5 #twitter的反爬，一次只能爬一丢丢，所以每轮滑动五下爬第二次\n",
    "max_batches = 5 #设置一下轮数（自己感觉一下，大致需要多少轮的文本）\n",
    "\n",
    "for batch in range(1, max_batches + 1):\n",
    "    print(f\"开始爬取第 {batch} 轮推文.\")\n",
    "\n",
    "    for _ in range(scroll_times):\n",
    "        driver.find_element(By.TAG_NAME, \"body\").send_keys(Keys.PAGE_DOWN)\n",
    "        time.sleep(2)\n",
    "\n",
    "    soup = BeautifulSoup(driver.page_source, \"html.parser\")\n",
    "    tweets = soup.find_all(\"div\", {'data-testid': \"cellInnerDiv\"})\n",
    "\n",
    "    for tweet in tweets:\n",
    "        content_div = tweet.find('div', {'data-testid': \"tweetText\"})\n",
    "        if content_div:\n",
    "            tweet_text = \" \".join(content_div.stripped_strings)\n",
    "\n",
    "            if tweet_text not in scraped_tweets:\n",
    "                scraped_tweets.add(tweet_text)\n",
    "                print(f\"推文 {len(scraped_tweets)}: {tweet_text}\\n\" + \"-\"*80)\n",
    "\n",
    "    print(f\"结束第 {batch} 轮爬取，共爬取 {len(scraped_tweets)} 条推文。\\n\")\n",
    "\n",
    "driver.quit()"
   ]
  },
  {
   "cell_type": "markdown",
   "metadata": {},
   "source": [
    "# 5. 保存Json文件"
   ]
  },
  {
   "cell_type": "code",
   "execution_count": null,
   "metadata": {},
   "outputs": [],
   "source": [
    "with open('tweets.json', 'w', encoding='utf-8') as jsonfile:\n",
    "    json.dump(list(scraped_tweets), jsonfile, ensure_ascii=False, indent=4)\n",
    "print(\"DONE!\")"
   ]
  },
  {
   "cell_type": "code",
   "execution_count": null,
   "metadata": {},
   "outputs": [
    {
     "name": "stdout",
     "output_type": "stream",
     "text": [
      "INFO: Not scanning for jupyter notebooks.\n",
      "INFO: Successfully saved requirements file in ./requirements.txt\n"
     ]
    }
   ],
   "source": [
    "# !pipreqs . --force"
   ]
  }
 ],
 "metadata": {
  "kernelspec": {
   "display_name": "ra_khu",
   "language": "python",
   "name": "python3"
  },
  "language_info": {
   "codemirror_mode": {
    "name": "ipython",
    "version": 3
   },
   "file_extension": ".py",
   "mimetype": "text/x-python",
   "name": "python",
   "nbconvert_exporter": "python",
   "pygments_lexer": "ipython3",
   "version": "3.12.2"
  }
 },
 "nbformat": 4,
 "nbformat_minor": 2
}
